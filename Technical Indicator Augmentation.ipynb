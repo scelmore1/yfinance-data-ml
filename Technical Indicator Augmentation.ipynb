{
 "cells": [
  {
   "cell_type": "code",
   "execution_count": 1,
   "metadata": {
    "collapsed": true
   },
   "outputs": [],
   "source": [
    "from datetime import timedelta\n",
    "import numpy as np\n",
    "import pandas as pd\n",
    "import json\n",
    "import ta\n",
    "\n",
    "# check https://technical-analysis-library-in-python.readthedocs.io/en/latest/ta.html#momentum-indicators for information on ta"
   ]
  },
  {
   "cell_type": "code",
   "execution_count": 2,
   "outputs": [],
   "source": [
    "# read in .json files\n",
    "with open('stock_specific_info.json', 'r') as fp:\n",
    "    stock_info_dict = json.load(fp)\n",
    "\n",
    "with open('stock_historic_prices.json', 'r') as fp:\n",
    "    stock_prices_dict = json.load(fp)"
   ],
   "metadata": {
    "collapsed": false,
    "pycharm": {
     "name": "#%%\n"
    }
   }
  },
  {
   "cell_type": "code",
   "execution_count": 3,
   "outputs": [],
   "source": [
    "# get quarterly returns\n",
    "quarter_returns = pd.read_csv('qtrlyReturns.csv')"
   ],
   "metadata": {
    "collapsed": false,
    "pycharm": {
     "name": "#%%\n"
    }
   }
  },
  {
   "cell_type": "code",
   "execution_count": 4,
   "outputs": [
    {
     "name": "stdout",
     "output_type": "stream",
     "text": [
      "stock HEIA has bad qtr return values\n",
      "stock JCP has bad qtr return values\n"
     ]
    }
   ],
   "source": [
    "# remove no quarter return stocks\n",
    "drop_stocks = []\n",
    "\n",
    "# add quarterly returns to stock_info_dict\n",
    "for stock, quarter_info in stock_info_dict.items():\n",
    "    stock_returns = quarter_returns[quarter_returns.Ticker == stock]\n",
    "    try:\n",
    "        stock_returns[['Q2 2019', 'Q3 2019', 'Q4 2019', 'Q1 2020', '5/21/2020']].astype('float', errors='raise')\n",
    "    except:\n",
    "        print('stock {} has bad qtr return values'.format(stock))\n",
    "        drop_stocks.append(stock)\n",
    "        continue\n",
    "    stock_info_dict[stock]['2019_Q2'].update({ 'Return' : float(stock_returns['Q2 2019'].values[0] ), 'Return Next Quarter' : float(stock_returns['Q3 2019'])})\n",
    "    stock_info_dict[stock]['2019_Q3'].update({ 'Return' : float(stock_returns['Q3 2019'].values[0] ), 'Return Next Quarter' : float(stock_returns['Q4 2019'])})\n",
    "    stock_info_dict[stock]['2019_Q4'].update({ 'Return' : float(stock_returns['Q4 2019'].values[0] ), 'Return Next Quarter' : float(stock_returns['Q1 2020'])})\n",
    "    stock_info_dict[stock]['2020_Q1'].update({ 'Return' : float(stock_returns['Q1 2020'].values[0] ), 'Return Next Quarter' : float(stock_returns['5/21/2020'])})"
   ],
   "metadata": {
    "collapsed": false,
    "pycharm": {
     "name": "#%%\n"
    }
   }
  },
  {
   "cell_type": "code",
   "execution_count": 5,
   "outputs": [],
   "source": [
    "# delete bad stocks\n",
    "for stock in drop_stocks:\n",
    "    del stock_info_dict[stock]\n",
    "    del stock_prices_dict[stock]"
   ],
   "metadata": {
    "collapsed": false,
    "pycharm": {
     "name": "#%%\n"
    }
   }
  },
  {
   "cell_type": "code",
   "execution_count": 95,
   "outputs": [],
   "source": [
    "quarters = ['2019_Q2', '2019_Q3', '2019_Q4', '2020_Q1']\n",
    "\n",
    "# build some techinical indicators from price history for each stock\n",
    "for stock in stock_prices_dict:  \n",
    "    # convert to dataframe\n",
    "    price_hist_df = pd.DataFrame.from_records(stock_prices_dict[stock]).T\n",
    "    \n",
    "    for qtr in quarters:\n",
    "        # dictionary of indicators to add to stock info\n",
    "        techinical_indicators = {}\n",
    "\n",
    "        # momentum indicators\n",
    "        aoi = ta.momentum.AwesomeOscillatorIndicator(high=price_hist_df.High, low=price_hist_df.Low).ao().loc[str(pd.to_datetime(stock_info_dict[stock][qtr]['Date']))]\n",
    "        techinical_indicators['aoi'] = aoi\n",
    "\n",
    "        kama = ta.momentum.KAMAIndicator(close=price_hist_df.Close).kama().loc[str(pd.to_datetime(stock_info_dict[stock][qtr]['Date']))]\n",
    "        techinical_indicators['kama'] = kama\n",
    "\n",
    "        roc = ta.momentum.ROCIndicator(close=price_hist_df.Close).roc().loc[str(pd.to_datetime(stock_info_dict[stock][qtr]['Date']))]\n",
    "        techinical_indicators['roc'] = roc\n",
    "\n",
    "        rsi = ta.momentum.RSIIndicator(close=price_hist_df.Close).rsi().loc[str(pd.to_datetime(stock_info_dict[stock][qtr]['Date']))]\n",
    "        techinical_indicators['rsi'] = rsi\n",
    "\n",
    "        tsi = ta.momentum.TSIIndicator(close=price_hist_df.Close).tsi().loc[str(pd.to_datetime(stock_info_dict[stock][qtr]['Date']))]\n",
    "        techinical_indicators['tsi'] = tsi\n",
    "\n",
    "        # volume indicators\n",
    "        adi = ta.volume.AccDistIndexIndicator(high=price_hist_df.High, low=price_hist_df.Low, close=price_hist_df.Close, volume=price_hist_df.Volume).acc_dist_index().loc[str(pd.to_datetime(stock_info_dict[stock][qtr]['Date']))]\n",
    "        techinical_indicators['adi'] = adi\n",
    "\n",
    "        cmf = ta.volume.ChaikinMoneyFlowIndicator(high=price_hist_df.High, low=price_hist_df.Low, close=price_hist_df.Close, volume=price_hist_df.Volume).chaikin_money_flow().loc[str(pd.to_datetime(stock_info_dict[stock][qtr]['Date']))]\n",
    "        techinical_indicators['cmf'] = cmf\n",
    "\n",
    "        emi = ta.volume.EaseOfMovementIndicator(high=price_hist_df.High, low=price_hist_df.Low, volume=price_hist_df.Volume).ease_of_movement().loc[str(pd.to_datetime(stock_info_dict[stock][qtr]['Date']))]\n",
    "        techinical_indicators['emi'] = emi\n",
    "        \n",
    "        \n",
    "        # volatility indicators\n",
    "        atr = ta.volatility.AverageTrueRange(high=price_hist_df.High, low=price_hist_df.Low, close=price_hist_df.Close).average_true_range().loc[str(pd.to_datetime(stock_info_dict[stock][qtr]['Date']))]\n",
    "        techinical_indicators['atr'] = atr\n",
    "\n",
    "        bband_h_indicator = ta.volatility.BollingerBands(close=price_hist_df.Close).bollinger_hband_indicator().loc[str(pd.to_datetime(stock_info_dict[stock][qtr]['Date']))]\n",
    "        techinical_indicators['bband_h'] = bband_h_indicator\n",
    "\n",
    "        bband_l_indicator = ta.volatility.BollingerBands(close=price_hist_df.Close).bollinger_lband_indicator().loc[str(pd.to_datetime(stock_info_dict[stock][qtr]['Date']))]\n",
    "        techinical_indicators['bband_l'] = bband_l_indicator\n",
    "        \n",
    "        # trend indicators\n",
    "        adx_pos = ta.trend.ADXIndicator(high=price_hist_df.High, low=price_hist_df.Low, close=price_hist_df.Close).adx_pos().loc[str(pd.to_datetime(stock_info_dict[stock][qtr]['Date']))]\n",
    "        techinical_indicators['adx_pos'] = adx_pos\n",
    "\n",
    "        adx_neg = ta.trend.ADXIndicator(high=price_hist_df.High, low=price_hist_df.Low, close=price_hist_df.Close).adx_neg().loc[str(pd.to_datetime(stock_info_dict[stock][qtr]['Date']))]\n",
    "        techinical_indicators['adx_neg'] = adx_neg\n",
    "\n",
    "        macd = ta.trend.MACD(close=price_hist_df.Close).macd_signal().loc[str(pd.to_datetime(stock_info_dict[stock][qtr]['Date']))]\n",
    "        techinical_indicators['macd'] = macd\n",
    "\n",
    "        # add to exisitng dictionary\n",
    "        stock_info_dict[stock][qtr].update(techinical_indicators)\n"
   ],
   "metadata": {
    "collapsed": false,
    "pycharm": {
     "name": "#%%\n"
    }
   }
  },
  {
   "cell_type": "code",
   "execution_count": 96,
   "outputs": [],
   "source": [
    "# turn stock info dictionary into dataframe\n",
    "stock_info_df = pd.DataFrame.from_dict({(i,j): stock_info_dict[i][j]\n",
    "                           for i in stock_info_dict.keys()\n",
    "                           for j in stock_info_dict[i].keys()},\n",
    "                       orient='index')"
   ],
   "metadata": {
    "collapsed": false,
    "pycharm": {
     "name": "#%%\n"
    }
   }
  },
  {
   "cell_type": "code",
   "execution_count": 97,
   "outputs": [],
   "source": [
    "# combine index\n",
    "stock_info_df = stock_info_df.set_index(stock_info_df.index.get_level_values(0) + ' ' + stock_info_df.index.get_level_values(1))"
   ],
   "metadata": {
    "collapsed": false,
    "pycharm": {
     "name": "#%%\n"
    }
   }
  },
  {
   "cell_type": "code",
   "execution_count": 98,
   "outputs": [],
   "source": [
    "# convert to .csv\n",
    "stock_info_df.to_csv('stock_complete_info.csv')\n"
   ],
   "metadata": {
    "collapsed": false,
    "pycharm": {
     "name": "#%%\n"
    }
   }
  }
 ],
 "metadata": {
  "kernelspec": {
   "name": "pycharm-eb9e9a2d",
   "language": "python",
   "display_name": "PyCharm (DSC478)"
  },
  "language_info": {
   "codemirror_mode": {
    "name": "ipython",
    "version": 2
   },
   "file_extension": ".py",
   "mimetype": "text/x-python",
   "name": "python",
   "nbconvert_exporter": "python",
   "pygments_lexer": "ipython2",
   "version": "2.7.6"
  }
 },
 "nbformat": 4,
 "nbformat_minor": 0
}