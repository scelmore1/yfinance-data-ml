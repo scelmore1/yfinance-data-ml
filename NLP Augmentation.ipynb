{
 "cells": [
  {
   "cell_type": "code",
   "execution_count": 1,
   "outputs": [],
   "source": [
    "import re\n",
    "from sklearn.feature_extraction.text import TfidfVectorizer\n",
    "from nltk.corpus import stopwords\n",
    "from nltk.tokenize import word_tokenize\n",
    "from nltk.stem import PorterStemmer\n",
    "import pandas as pd\n",
    "import numpy as np"
   ],
   "metadata": {
    "collapsed": false,
    "pycharm": {
     "name": "#%%\n"
    }
   }
  },
  {
   "cell_type": "code",
   "execution_count": 22,
   "metadata": {
    "collapsed": true
   },
   "outputs": [],
   "source": [
    "stock_info_df = pd.read_csv('stock_complete_info.csv', index_col=0)"
   ]
  },
  {
   "cell_type": "code",
   "execution_count": 3,
   "outputs": [],
   "source": [
    "# do text feature extraction\n",
    "# get bigrams tf_idf\n",
    "\n",
    "company_summary_text = stock_info_df['longBusinessSummary'].values"
   ],
   "metadata": {
    "collapsed": false,
    "pycharm": {
     "name": "#%%\n"
    }
   }
  },
  {
   "cell_type": "code",
   "execution_count": 4,
   "outputs": [],
   "source": [
    "# remove special characters\n",
    "def remove_string_special_characters(s):\n",
    "\n",
    "    # removes special characters with ' '\n",
    "    stripped = re.sub('[^a-zA-z\\s]', '', s)\n",
    "    stripped = re.sub('_', '', stripped)\n",
    "\n",
    "    # Change any white space to one space\n",
    "    stripped = re.sub('\\s+', ' ', stripped)\n",
    "\n",
    "    # Remove start and end white spaces\n",
    "    stripped = stripped.strip()\n",
    "    if stripped != '':\n",
    "            return stripped.lower()"
   ],
   "metadata": {
    "collapsed": false,
    "pycharm": {
     "name": "#%%\n"
    }
   }
  },
  {
   "cell_type": "code",
   "execution_count": 5,
   "outputs": [],
   "source": [
    "# Stopword removal and stemmer\n",
    "stop_words = set(stopwords.words('english'))\n",
    "overused_words = ['company', 'founded', 'inc', 'provide', 'formerly', 'known', 'offer', 'also', '']\n",
    "\n",
    "ps = PorterStemmer()\n",
    "for i, line in enumerate(company_summary_text):\n",
    "    line = remove_string_special_characters(line)\n",
    "    company_summary_text[i] = ' '.join([ps.stem(x) for x in word_tokenize(line) if ( x not in stop_words ) and (x not in overused_words)])\n"
   ],
   "metadata": {
    "collapsed": false,
    "pycharm": {
     "name": "#%%\n"
    }
   }
  },
  {
   "cell_type": "code",
   "execution_count": 6,
   "outputs": [],
   "source": [
    "# tf idf vectorizer\n",
    "vectorizer = TfidfVectorizer(ngram_range = (2, 2))\n",
    "tf_idf_text = vectorizer.fit_transform(company_summary_text)\n",
    "features = vectorizer.get_feature_names()\n"
   ],
   "metadata": {
    "collapsed": false,
    "pycharm": {
     "name": "#%%\n"
    }
   }
  },
  {
   "cell_type": "code",
   "execution_count": 11,
   "outputs": [
    {
     "name": "stdout",
     "output_type": "stream",
     "text": [
      "\n",
      "\n",
      "Words : \n",
      "                               term      tf_idf\n",
      "86978                   real estat  102.480369\n",
      "111380                  unit state   92.949862\n",
      "93673                segment offer   70.457489\n",
      "68056                     natur ga   66.116184\n",
      "68909                     new york   57.819850\n",
      "...                            ...         ...\n",
      "8779                  bank financi    7.111382\n",
      "18328   clinicalstag biopharmaceut    7.102058\n",
      "34400                     end user    7.100784\n",
      "47405                    hold oper    7.097708\n",
      "28341                deposit offer    7.089645\n",
      "\n",
      "[500 rows x 2 columns]\n"
     ]
    }
   ],
   "source": [
    "# Getting top ranking bigrams\n",
    "sums = tf_idf_text.sum(axis = 0)\n",
    "data1 = []\n",
    "for col, term in enumerate(features):\n",
    "    data1.append( (term, sums[0, col] ))\n",
    "ranking = pd.DataFrame(data1, columns = ['term', 'tf_idf'])\n",
    "words = (ranking.sort_values('tf_idf', ascending = True))\n",
    "\n",
    "term_dict = dict.fromkeys(words['term'].values)\n",
    "term_dict = {\" \".join(sorted(key.split(\" \"))):term_dict[key] for key in term_dict}\n",
    "term_rem_dups = list(term_dict.keys())\n",
    "words = words[words['term'].isin(term_rem_dups)]\n",
    "words = (ranking.sort_values('tf_idf', ascending = False))\n",
    "\n",
    "top_500_words = words.head(500)\n",
    "print (\"\\n\\nWords : \\n\", top_500_words)\n",
    "\n",
    "\n",
    "del term_dict\n",
    "del sums\n",
    "del data1\n",
    "del ranking\n",
    "del words\n",
    "del term_rem_dups"
   ],
   "metadata": {
    "collapsed": false,
    "pycharm": {
     "name": "#%%\n"
    }
   }
  },
  {
   "cell_type": "code",
   "execution_count": 15,
   "outputs": [],
   "source": [
    "# convert to df\n",
    "tf_idf_df = pd.DataFrame(tf_idf_text.toarray(), columns = features)\n",
    "del tf_idf_text"
   ],
   "metadata": {
    "collapsed": false,
    "pycharm": {
     "name": "#%%\n"
    }
   }
  },
  {
   "cell_type": "code",
   "execution_count": 16,
   "outputs": [],
   "source": [
    "# keep only top 500\n",
    "tf_idf_df = tf_idf_df.loc[:, top_500_words['term'].values]"
   ],
   "metadata": {
    "collapsed": false,
    "pycharm": {
     "name": "#%%\n"
    }
   }
  },
  {
   "cell_type": "code",
   "execution_count": 33,
   "outputs": [],
   "source": [
    "# drop summary text\n",
    "stock_info_df.drop(columns = 'longBusinessSummary', inplace=True)"
   ],
   "metadata": {
    "collapsed": false,
    "pycharm": {
     "name": "#%%\n"
    }
   }
  },
  {
   "cell_type": "code",
   "execution_count": 30,
   "outputs": [],
   "source": [
    "# add bigrams as features\n",
    "stock_info_df = stock_info_df.reset_index().join(tf_idf_df)"
   ],
   "metadata": {
    "collapsed": false,
    "pycharm": {
     "name": "#%%\n"
    }
   }
  },
  {
   "cell_type": "code",
   "execution_count": 32,
   "outputs": [],
   "source": [
    "# set index back\n",
    "stock_info_df = stock_info_df.set_index('index')"
   ],
   "metadata": {
    "collapsed": false,
    "pycharm": {
     "name": "#%%\n"
    }
   }
  },
  {
   "cell_type": "code",
   "execution_count": 34,
   "outputs": [],
   "source": [
    "# convert to .csv\n",
    "stock_info_df.to_csv('stock_complete_info_bigrams.csv')\n",
    "\n"
   ],
   "metadata": {
    "collapsed": false,
    "pycharm": {
     "name": "#%%\n"
    }
   }
  }
 ],
 "metadata": {
  "kernelspec": {
   "name": "pycharm-eb9e9a2d",
   "language": "python",
   "display_name": "PyCharm (DSC478)"
  },
  "language_info": {
   "codemirror_mode": {
    "name": "ipython",
    "version": 2
   },
   "file_extension": ".py",
   "mimetype": "text/x-python",
   "name": "python",
   "nbconvert_exporter": "python",
   "pygments_lexer": "ipython2",
   "version": "2.7.6"
  }
 },
 "nbformat": 4,
 "nbformat_minor": 0
}